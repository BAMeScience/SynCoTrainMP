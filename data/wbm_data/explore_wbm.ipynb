{
 "cells": [
  {
   "cell_type": "code",
   "execution_count": 1,
   "metadata": {},
   "outputs": [],
   "source": [
    "import json\n",
    "from pymatgen.core.structure import Structure\n",
    "from pymatgen.core.periodic_table import Element\n",
    "import os\n",
    "current_dir = os.path.dirname(os.path.realpath('__file__'))\n",
    "os.chdir('../../data_scripts')\n",
    "from crystal_funcs import clean_oxide\n",
    "os.chdir(current_dir)\n",
    "import numpy as np\n",
    "import pandas as pd"
   ]
  },
  {
   "cell_type": "code",
   "execution_count": 3,
   "metadata": {},
   "outputs": [],
   "source": [
    "file_path = \"2022-10-19-wbm-computed-structure-entries+init-structs.json\"\n",
    "\n",
    "with open(file_path) as file:\n",
    "    data = json.load(file)\n"
   ]
  },
  {
   "cell_type": "code",
   "execution_count": 4,
   "metadata": {},
   "outputs": [
    {
     "data": {
      "text/plain": [
       "dict"
      ]
     },
     "execution_count": 4,
     "metadata": {},
     "output_type": "execute_result"
    }
   ],
   "source": [
    "type(data)"
   ]
  },
  {
   "cell_type": "code",
   "execution_count": 5,
   "metadata": {},
   "outputs": [
    {
     "data": {
      "text/plain": [
       "dict_keys(['material_id', 'formula_from_cse', 'initial_structure', 'computed_structure_entry'])"
      ]
     },
     "execution_count": 5,
     "metadata": {},
     "output_type": "execute_result"
    }
   ],
   "source": [
    "data.keys()"
   ]
  },
  {
   "cell_type": "markdown",
   "metadata": {},
   "source": [
    "initial_structure are unrelaxed. computed_structure_entry['structure'] are the relaxed structures."
   ]
  },
  {
   "cell_type": "code",
   "execution_count": 6,
   "metadata": {},
   "outputs": [],
   "source": [
    "wbm_data = list(data['computed_structure_entry'].values())"
   ]
  },
  {
   "cell_type": "code",
   "execution_count": 7,
   "metadata": {},
   "outputs": [],
   "source": [
    "for d in wbm_data:\n",
    "    d['material_id'] = d['entry_id']\n",
    "    del d['entry_id']\n",
    "    d['structure'] = Structure.from_dict(d['structure'])"
   ]
  },
  {
   "cell_type": "code",
   "execution_count": 8,
   "metadata": {},
   "outputs": [
    {
     "name": "stdout",
     "output_type": "stream",
     "text": [
      "27946\n"
     ]
    }
   ],
   "source": [
    "oxs = [d for d in wbm_data if Element('O') in d['structure'].elements]\n",
    "# filter out structures without oxygen\n",
    "print(len(oxs))"
   ]
  },
  {
   "cell_type": "code",
   "execution_count": 9,
   "metadata": {},
   "outputs": [
    {
     "name": "stdout",
     "output_type": "stream",
     "text": [
      "The initial data length is 27946\n"
     ]
    },
    {
     "ename": "KeyboardInterrupt",
     "evalue": "",
     "output_type": "error",
     "traceback": [
      "\u001b[0;31m---------------------------------------------------------------------------\u001b[0m",
      "\u001b[0;31mKeyboardInterrupt\u001b[0m                         Traceback (most recent call last)",
      "Cell \u001b[0;32mIn[9], line 4\u001b[0m\n\u001b[1;32m      1\u001b[0m \u001b[38;5;66;03m# oxs_short = oxs[:100]\u001b[39;00m\n\u001b[1;32m      2\u001b[0m \n\u001b[1;32m      3\u001b[0m \u001b[38;5;66;03m# good_data = clean_oxide(experimental=False, pymatgenArray = oxs_short,\u001b[39;00m\n\u001b[0;32m----> 4\u001b[0m good_data \u001b[38;5;241m=\u001b[39m \u001b[43mclean_oxide\u001b[49m\u001b[43m(\u001b[49m\u001b[43mexperimental\u001b[49m\u001b[38;5;241;43m=\u001b[39;49m\u001b[38;5;28;43;01mFalse\u001b[39;49;00m\u001b[43m,\u001b[49m\u001b[43m \u001b[49m\u001b[43mpymatgenArray\u001b[49m\u001b[43m \u001b[49m\u001b[38;5;241;43m=\u001b[39;49m\u001b[43m \u001b[49m\u001b[43moxs\u001b[49m\u001b[43m,\u001b[49m\n\u001b[1;32m      5\u001b[0m \u001b[43m                                     \u001b[49m\u001b[43mreportBadData\u001b[49m\u001b[38;5;241;43m=\u001b[39;49m\u001b[38;5;28;43;01mFalse\u001b[39;49;00m\u001b[43m,\u001b[49m\u001b[43m \u001b[49m\u001b[43mread_oxide_type\u001b[49m\u001b[43m \u001b[49m\u001b[38;5;241;43m=\u001b[39;49m\u001b[43m \u001b[49m\u001b[38;5;28;43;01mFalse\u001b[39;49;00m\u001b[43m)\u001b[49m\n",
      "File \u001b[0;32m~/projects/final_syncotrain/MP_SynCoTrain/data_scripts/crystal_funcs.py:167\u001b[0m, in \u001b[0;36mclean_oxide\u001b[0;34m(experimental, pymatgenArray, reportBadData, read_oxide_type)\u001b[0m\n\u001b[1;32m    165\u001b[0m         \u001b[38;5;28;01mcontinue\u001b[39;00m\n\u001b[1;32m    166\u001b[0m \u001b[38;5;28;01mtry\u001b[39;00m:\n\u001b[0;32m--> 167\u001b[0m     other_anion, other_oxidation, bad_structure, primStruc \u001b[38;5;241m=\u001b[39m \u001b[43moxide_check\u001b[49m\u001b[43m(\u001b[49m\u001b[43minitStruc\u001b[49m\u001b[38;5;241;43m=\u001b[39;49m\u001b[43mmaterial\u001b[49m\u001b[43m[\u001b[49m\u001b[38;5;124;43m\"\u001b[39;49m\u001b[38;5;124;43mstructure\u001b[39;49m\u001b[38;5;124;43m\"\u001b[39;49m\u001b[43m]\u001b[49m\u001b[43m)\u001b[49m\n\u001b[1;32m    168\u001b[0m     \u001b[38;5;28;01mif\u001b[39;00m other_anion:\n\u001b[1;32m    169\u001b[0m         other_anion_IDs\u001b[38;5;241m.\u001b[39mappend([j,material[\u001b[38;5;124m'\u001b[39m\u001b[38;5;124mmaterial_id\u001b[39m\u001b[38;5;124m'\u001b[39m]])\n",
      "File \u001b[0;32m~/projects/final_syncotrain/MP_SynCoTrain/data_scripts/crystal_funcs.py:114\u001b[0m, in \u001b[0;36moxide_check\u001b[0;34m(initStruc)\u001b[0m\n\u001b[1;32m    112\u001b[0m bv \u001b[38;5;241m=\u001b[39m BVAnalyzer()  \u001b[38;5;66;03m#This class implements a maximum a posteriori (MAP) estimation method to\u001b[39;00m\n\u001b[1;32m    113\u001b[0m \u001b[38;5;66;03m# determines oxidation states in a structure.\u001b[39;00m\n\u001b[0;32m--> 114\u001b[0m oxid_stats \u001b[38;5;241m=\u001b[39m \u001b[43mbv\u001b[49m\u001b[38;5;241;43m.\u001b[39;49m\u001b[43mget_valences\u001b[49m\u001b[43m(\u001b[49m\u001b[43mprimStruc\u001b[49m\u001b[43m)\u001b[49m\n\u001b[1;32m    116\u001b[0m \u001b[38;5;28;01mfor\u001b[39;00m i, site \u001b[38;5;129;01min\u001b[39;00m \u001b[38;5;28menumerate\u001b[39m(primStruc): \u001b[38;5;66;03m#checks for any element other than Oxygen with a negative oxidation state.\u001b[39;00m\n\u001b[1;32m    117\u001b[0m     \u001b[38;5;28;01mif\u001b[39;00m site\u001b[38;5;241m.\u001b[39mspecies_string \u001b[38;5;241m!=\u001b[39m \u001b[38;5;124m'\u001b[39m\u001b[38;5;124mO\u001b[39m\u001b[38;5;124m'\u001b[39m:\n",
      "File \u001b[0;32m~/miniforge3/envs/synMP/lib/python3.10/site-packages/pymatgen/analysis/bond_valence.py:246\u001b[0m, in \u001b[0;36mBVAnalyzer.get_valences\u001b[0;34m(self, structure)\u001b[0m\n\u001b[1;32m    244\u001b[0m \u001b[38;5;28;01mfor\u001b[39;00m sites \u001b[38;5;129;01min\u001b[39;00m equi_sites:\n\u001b[1;32m    245\u001b[0m     test_site \u001b[38;5;241m=\u001b[39m sites[\u001b[38;5;241m0\u001b[39m]\n\u001b[0;32m--> 246\u001b[0m     nn \u001b[38;5;241m=\u001b[39m \u001b[43mstructure\u001b[49m\u001b[38;5;241;43m.\u001b[39;49m\u001b[43mget_neighbors\u001b[49m\u001b[43m(\u001b[49m\u001b[43mtest_site\u001b[49m\u001b[43m,\u001b[49m\u001b[43m \u001b[49m\u001b[38;5;28;43mself\u001b[39;49m\u001b[38;5;241;43m.\u001b[39;49m\u001b[43mmax_radius\u001b[49m\u001b[43m)\u001b[49m\n\u001b[1;32m    247\u001b[0m     prob \u001b[38;5;241m=\u001b[39m \u001b[38;5;28mself\u001b[39m\u001b[38;5;241m.\u001b[39m_calc_site_probabilities(test_site, nn)\n\u001b[1;32m    248\u001b[0m     all_prob\u001b[38;5;241m.\u001b[39mappend(prob)\n",
      "File \u001b[0;32m~/miniforge3/envs/synMP/lib/python3.10/site-packages/pymatgen/core/structure.py:1489\u001b[0m, in \u001b[0;36mIStructure.get_neighbors\u001b[0;34m(self, site, r, include_index, include_image)\u001b[0m\n\u001b[1;32m   1468\u001b[0m \u001b[38;5;28;01mdef\u001b[39;00m \u001b[38;5;21mget_neighbors\u001b[39m(\n\u001b[1;32m   1469\u001b[0m     \u001b[38;5;28mself\u001b[39m,\n\u001b[1;32m   1470\u001b[0m     site: PeriodicSite,\n\u001b[0;32m   (...)\u001b[0m\n\u001b[1;32m   1473\u001b[0m     include_image: \u001b[38;5;28mbool\u001b[39m \u001b[38;5;241m=\u001b[39m \u001b[38;5;28;01mFalse\u001b[39;00m,\n\u001b[1;32m   1474\u001b[0m ) \u001b[38;5;241m-\u001b[39m\u001b[38;5;241m>\u001b[39m \u001b[38;5;28mlist\u001b[39m[PeriodicNeighbor]:\n\u001b[1;32m   1475\u001b[0m \u001b[38;5;250m    \u001b[39m\u001b[38;5;124;03m\"\"\"Get all neighbors to a site within a sphere of radius r. Excludes the\u001b[39;00m\n\u001b[1;32m   1476\u001b[0m \u001b[38;5;124;03m    site itself.\u001b[39;00m\n\u001b[1;32m   1477\u001b[0m \n\u001b[0;32m   (...)\u001b[0m\n\u001b[1;32m   1487\u001b[0m \u001b[38;5;124;03m        PeriodicNeighbor\u001b[39;00m\n\u001b[1;32m   1488\u001b[0m \u001b[38;5;124;03m    \"\"\"\u001b[39;00m\n\u001b[0;32m-> 1489\u001b[0m     \u001b[38;5;28;01mreturn\u001b[39;00m \u001b[38;5;28;43mself\u001b[39;49m\u001b[38;5;241;43m.\u001b[39;49m\u001b[43mget_all_neighbors\u001b[49m\u001b[43m(\u001b[49m\u001b[43mr\u001b[49m\u001b[43m,\u001b[49m\u001b[43m \u001b[49m\u001b[43minclude_index\u001b[49m\u001b[38;5;241;43m=\u001b[39;49m\u001b[43minclude_index\u001b[49m\u001b[43m,\u001b[49m\u001b[43m \u001b[49m\u001b[43minclude_image\u001b[49m\u001b[38;5;241;43m=\u001b[39;49m\u001b[43minclude_image\u001b[49m\u001b[43m,\u001b[49m\u001b[43m \u001b[49m\u001b[43msites\u001b[49m\u001b[38;5;241;43m=\u001b[39;49m\u001b[43m[\u001b[49m\u001b[43msite\u001b[49m\u001b[43m]\u001b[49m\u001b[43m)\u001b[49m[\u001b[38;5;241m0\u001b[39m]\n",
      "File \u001b[0;32m~/miniforge3/envs/synMP/lib/python3.10/site-packages/pymatgen/core/structure.py:1848\u001b[0m, in \u001b[0;36mIStructure.get_all_neighbors\u001b[0;34m(self, r, include_index, include_image, sites, numerical_tol)\u001b[0m\n\u001b[1;32m   1829\u001b[0m     csite \u001b[38;5;241m=\u001b[39m sites[cindex]\n\u001b[1;32m   1830\u001b[0m     \u001b[38;5;28;01mif\u001b[39;00m (\n\u001b[1;32m   1831\u001b[0m         d \u001b[38;5;241m>\u001b[39m numerical_tol\n\u001b[1;32m   1832\u001b[0m         \u001b[38;5;129;01mor\u001b[39;00m\n\u001b[0;32m   (...)\u001b[0m\n\u001b[1;32m   1838\u001b[0m         \u001b[38;5;129;01mor\u001b[39;00m (psite\u001b[38;5;241m.\u001b[39mproperties \u001b[38;5;241m!=\u001b[39m csite\u001b[38;5;241m.\u001b[39mproperties)\n\u001b[1;32m   1839\u001b[0m     ):\n\u001b[1;32m   1840\u001b[0m         neighbor_dict[cindex]\u001b[38;5;241m.\u001b[39mappend(\n\u001b[1;32m   1841\u001b[0m             PeriodicNeighbor(\n\u001b[1;32m   1842\u001b[0m                 species\u001b[38;5;241m=\u001b[39mpsite\u001b[38;5;241m.\u001b[39mspecies,\n\u001b[1;32m   1843\u001b[0m                 coords\u001b[38;5;241m=\u001b[39mf_coord,\n\u001b[1;32m   1844\u001b[0m                 lattice\u001b[38;5;241m=\u001b[39mlattice,\n\u001b[1;32m   1845\u001b[0m                 properties\u001b[38;5;241m=\u001b[39mpsite\u001b[38;5;241m.\u001b[39mproperties,\n\u001b[1;32m   1846\u001b[0m                 nn_distance\u001b[38;5;241m=\u001b[39md,\n\u001b[1;32m   1847\u001b[0m                 index\u001b[38;5;241m=\u001b[39mpindex,\n\u001b[0;32m-> 1848\u001b[0m                 image\u001b[38;5;241m=\u001b[39m\u001b[38;5;28;43mtuple\u001b[39;49m\u001b[43m(\u001b[49m\u001b[43mimage\u001b[49m\u001b[43m)\u001b[49m,\n\u001b[1;32m   1849\u001b[0m                 label\u001b[38;5;241m=\u001b[39mpsite\u001b[38;5;241m.\u001b[39mlabel,\n\u001b[1;32m   1850\u001b[0m             )\n\u001b[1;32m   1851\u001b[0m         )\n\u001b[1;32m   1853\u001b[0m neighbors: \u001b[38;5;28mlist\u001b[39m[\u001b[38;5;28mlist\u001b[39m[PeriodicNeighbor]] \u001b[38;5;241m=\u001b[39m []\n\u001b[1;32m   1855\u001b[0m \u001b[38;5;28;01mfor\u001b[39;00m i \u001b[38;5;129;01min\u001b[39;00m \u001b[38;5;28mrange\u001b[39m(\u001b[38;5;28mlen\u001b[39m(sites)):\n",
      "\u001b[0;31mKeyboardInterrupt\u001b[0m: "
     ]
    }
   ],
   "source": [
    "# oxs_short = oxs[:100]\n",
    "\n",
    "# good_data = clean_oxide(experimental=False, pymatgenArray = oxs_short,\n",
    "good_data = clean_oxide(experimental=False, pymatgenArray = oxs,\n",
    "                                     reportBadData=False, read_oxide_type = False)\n"
   ]
  },
  {
   "cell_type": "code",
   "execution_count": 9,
   "metadata": {},
   "outputs": [],
   "source": [
    "# good_data[0]"
   ]
  },
  {
   "cell_type": "code",
   "execution_count": 10,
   "metadata": {},
   "outputs": [],
   "source": [
    "df = pd.DataFrame.from_records(good_data)\n",
    "df = df.drop(columns=['@module', '@class', 'data'])\n"
   ]
  },
  {
   "cell_type": "code",
   "execution_count": 11,
   "metadata": {},
   "outputs": [
    {
     "data": {
      "text/plain": [
       "Index(['energy', 'composition', 'correction', 'parameters', 'structure',\n",
       "       'material_id'],\n",
       "      dtype='object')"
      ]
     },
     "execution_count": 11,
     "metadata": {},
     "output_type": "execute_result"
    }
   ],
   "source": [
    "df.columns"
   ]
  },
  {
   "cell_type": "code",
   "execution_count": 12,
   "metadata": {},
   "outputs": [],
   "source": [
    "df.to_pickle('wbm_oxides.pkl')"
   ]
  },
  {
   "cell_type": "markdown",
   "metadata": {},
   "source": [
    "Switching to an array seems difficult and unnecessary. But, it seems we need to add a material_id component to each data point. \n",
    "That could be obtained through data['material_id'] of the same index. Don't worry too much about sampling the correct index at first; we're gonna use the entire data after the pipeline is written anyways."
   ]
  },
  {
   "cell_type": "code",
   "execution_count": 13,
   "metadata": {},
   "outputs": [
    {
     "data": {
      "text/html": [
       "<div>\n",
       "<style scoped>\n",
       "    .dataframe tbody tr th:only-of-type {\n",
       "        vertical-align: middle;\n",
       "    }\n",
       "\n",
       "    .dataframe tbody tr th {\n",
       "        vertical-align: top;\n",
       "    }\n",
       "\n",
       "    .dataframe thead th {\n",
       "        text-align: right;\n",
       "    }\n",
       "</style>\n",
       "<table border=\"1\" class=\"dataframe\">\n",
       "  <thead>\n",
       "    <tr style=\"text-align: right;\">\n",
       "      <th></th>\n",
       "      <th>energy</th>\n",
       "      <th>composition</th>\n",
       "      <th>correction</th>\n",
       "      <th>parameters</th>\n",
       "      <th>structure</th>\n",
       "      <th>material_id</th>\n",
       "    </tr>\n",
       "  </thead>\n",
       "  <tbody>\n",
       "    <tr>\n",
       "      <th>0</th>\n",
       "      <td>-61.336153</td>\n",
       "      <td>{'O': 5.0, 'Na': 1.0, 'Bi': 1.0, 'B': 2.0}</td>\n",
       "      <td>0.0</td>\n",
       "      <td>{'potcar_symbols': ['PAW_PBE Na_pv 05Jan2001',...</td>\n",
       "      <td>[[1.71238096 1.02567987 3.29744478] Na, [1.270...</td>\n",
       "      <td>wbm-1-4374</td>\n",
       "    </tr>\n",
       "    <tr>\n",
       "      <th>1</th>\n",
       "      <td>-87.844284</td>\n",
       "      <td>{'Ba': 2.0, 'O': 6.0, 'B': 2.0, 'Eu': 1.0}</td>\n",
       "      <td>0.0</td>\n",
       "      <td>{'potcar_symbols': ['PAW_PBE Eu 08Apr2002', 'P...</td>\n",
       "      <td>[[-8.91300683e-05  3.43426255e+00  6.10967762e...</td>\n",
       "      <td>wbm-1-4375</td>\n",
       "    </tr>\n",
       "    <tr>\n",
       "      <th>2</th>\n",
       "      <td>-80.455899</td>\n",
       "      <td>{'Ba': 2.0, 'O': 6.0, 'B': 2.0, 'Yb': 1.0}</td>\n",
       "      <td>0.0</td>\n",
       "      <td>{'potcar_symbols': ['PAW_PBE B 06Sep2000', 'PA...</td>\n",
       "      <td>[[-2.74103904  1.88398374  4.42993739] B, [2.7...</td>\n",
       "      <td>wbm-1-4376</td>\n",
       "    </tr>\n",
       "    <tr>\n",
       "      <th>3</th>\n",
       "      <td>-79.000502</td>\n",
       "      <td>{'Ba': 3.0, 'O': 6.0, 'B': 2.0}</td>\n",
       "      <td>0.0</td>\n",
       "      <td>{'potcar_symbols': ['PAW_PBE B 06Sep2000', 'PA...</td>\n",
       "      <td>[[-2.74266703  2.05258232  4.87025798] B, [2.7...</td>\n",
       "      <td>wbm-1-4377</td>\n",
       "    </tr>\n",
       "    <tr>\n",
       "      <th>4</th>\n",
       "      <td>-84.876555</td>\n",
       "      <td>{'Hf': 1.0, 'Ba': 1.0, 'B': 2.0, 'O': 6.0}</td>\n",
       "      <td>0.0</td>\n",
       "      <td>{'potcar_symbols': ['PAW_PBE B 06Sep2000', 'PA...</td>\n",
       "      <td>[[2.59805358 1.49998554 1.65859481] B, [7.7941...</td>\n",
       "      <td>wbm-1-4378</td>\n",
       "    </tr>\n",
       "  </tbody>\n",
       "</table>\n",
       "</div>"
      ],
      "text/plain": [
       "      energy                                 composition  correction  \\\n",
       "0 -61.336153  {'O': 5.0, 'Na': 1.0, 'Bi': 1.0, 'B': 2.0}         0.0   \n",
       "1 -87.844284  {'Ba': 2.0, 'O': 6.0, 'B': 2.0, 'Eu': 1.0}         0.0   \n",
       "2 -80.455899  {'Ba': 2.0, 'O': 6.0, 'B': 2.0, 'Yb': 1.0}         0.0   \n",
       "3 -79.000502             {'Ba': 3.0, 'O': 6.0, 'B': 2.0}         0.0   \n",
       "4 -84.876555  {'Hf': 1.0, 'Ba': 1.0, 'B': 2.0, 'O': 6.0}         0.0   \n",
       "\n",
       "                                          parameters  \\\n",
       "0  {'potcar_symbols': ['PAW_PBE Na_pv 05Jan2001',...   \n",
       "1  {'potcar_symbols': ['PAW_PBE Eu 08Apr2002', 'P...   \n",
       "2  {'potcar_symbols': ['PAW_PBE B 06Sep2000', 'PA...   \n",
       "3  {'potcar_symbols': ['PAW_PBE B 06Sep2000', 'PA...   \n",
       "4  {'potcar_symbols': ['PAW_PBE B 06Sep2000', 'PA...   \n",
       "\n",
       "                                           structure material_id  \n",
       "0  [[1.71238096 1.02567987 3.29744478] Na, [1.270...  wbm-1-4374  \n",
       "1  [[-8.91300683e-05  3.43426255e+00  6.10967762e...  wbm-1-4375  \n",
       "2  [[-2.74103904  1.88398374  4.42993739] B, [2.7...  wbm-1-4376  \n",
       "3  [[-2.74266703  2.05258232  4.87025798] B, [2.7...  wbm-1-4377  \n",
       "4  [[2.59805358 1.49998554 1.65859481] B, [7.7941...  wbm-1-4378  "
      ]
     },
     "execution_count": 13,
     "metadata": {},
     "output_type": "execute_result"
    }
   ],
   "source": [
    "df.head()"
   ]
  },
  {
   "cell_type": "code",
   "execution_count": 20,
   "metadata": {},
   "outputs": [],
   "source": [
    "save_dir = \"../../predict_target/label_alignn_format/poscars_for_synth_prediction/wbm_oxides\"\n",
    "os.makedirs(save_dir, exist_ok=True)"
   ]
  },
  {
   "cell_type": "code",
   "execution_count": 29,
   "metadata": {},
   "outputs": [],
   "source": [
    "# writing poscars into save_dir for prediction\n",
    "for i, row in df.iterrows():\n",
    "    crystal = row['structure']\n",
    "    filename = f\"POSCAR-{row['material_id']}.vasp\"\n",
    "    filepath = os.path.join(save_dir, filename)\n",
    "    crystal.to(filename=filepath, fmt='poscar')\n",
    "    # break"
   ]
  },
  {
   "cell_type": "code",
   "execution_count": 32,
   "metadata": {},
   "outputs": [
    {
     "name": "stdout",
     "output_type": "stream",
     "text": [
      "Number of files in ../../predict_target/label_alignn_format/poscars_for_synth_prediction/wbm_oxides: 14094\n"
     ]
    }
   ],
   "source": [
    "file_count = len(os.listdir(save_dir))\n",
    "print(f\"Number of files in {save_dir}: {file_count}\")"
   ]
  },
  {
   "cell_type": "code",
   "execution_count": null,
   "metadata": {},
   "outputs": [],
   "source": []
  },
  {
   "cell_type": "code",
   "execution_count": null,
   "metadata": {},
   "outputs": [],
   "source": []
  }
 ],
 "metadata": {
  "kernelspec": {
   "display_name": "Python 3",
   "language": "python",
   "name": "python3"
  },
  "language_info": {
   "codemirror_mode": {
    "name": "ipython",
    "version": 3
   },
   "file_extension": ".py",
   "mimetype": "text/x-python",
   "name": "python",
   "nbconvert_exporter": "python",
   "pygments_lexer": "ipython3",
   "version": "3.10.13"
  }
 },
 "nbformat": 4,
 "nbformat_minor": 2
}
